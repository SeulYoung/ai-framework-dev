{
 "cells": [
  {
   "cell_type": "markdown",
   "metadata": {
    "pycharm": {
     "name": "#%% md\n"
    }
   },
   "source": [
    "# Project1 - 多元线性回归\n",
    "\n",
    "本部分使用了梯度下降和最小二乘法两种方式实现了多元线性回归，同时使用了RMSE和r2进行了评估，并和sklearn的方法进行了对比。所使用的数据集是CCPP数据集。"
   ]
  },
  {
   "cell_type": "code",
   "execution_count": 9,
   "metadata": {},
   "outputs": [],
   "source": [
    "import numpy as np\n",
    "import pandas as pd\n",
    "\n",
    "# 用于对比sklearn结果所需的库\n",
    "from sklearn.preprocessing import StandardScaler\n",
    "from sklearn.linear_model import LinearRegression\n",
    "from sklearn.metrics import r2_score, mean_squared_error"
   ]
  },
  {
   "cell_type": "code",
   "execution_count": 10,
   "metadata": {
    "pycharm": {
     "name": "#%%\n"
    }
   },
   "outputs": [],
   "source": [
    "# 归一化数据\n",
    "def normalized(data):\n",
    "    return (data - data.mean())/data.std()"
   ]
  },
  {
   "cell_type": "code",
   "execution_count": 11,
   "metadata": {
    "pycharm": {
     "name": "#%%\n"
    }
   },
   "outputs": [],
   "source": [
    "# 切割数据为训练集和测试集\n",
    "def split_data(data):\n",
    "    m = 7000\n",
    "    f = 4\n",
    "\n",
    "    X = data[:,:4]\n",
    "    y = data[:,-1]\n",
    "\n",
    "    X_train = X[:m,:f]\n",
    "    X_train = np.c_[np.ones(len(X_train),dtype='int64'),X_train]\n",
    "    y_train = y[:m]\n",
    "    X_test = X[m:,:f]\n",
    "    X_test = np.c_[np.ones(len(X_test),dtype='int64'),X_test]\n",
    "    y_test = y[m:]\n",
    "\n",
    "    return X_train,X_test,y_train,y_test"
   ]
  },
  {
   "cell_type": "code",
   "execution_count": 12,
   "metadata": {
    "pycharm": {
     "name": "#%%\n"
    }
   },
   "outputs": [],
   "source": [
    "# 初始化学习率和迭代次数\n",
    "alpha = 0.005\n",
    "iters = 2000"
   ]
  },
  {
   "cell_type": "markdown",
   "metadata": {
    "pycharm": {
     "name": "#%% md\n"
    }
   },
   "source": [
    "以下部分分别用了梯度下降和最小二乘法两种方式训练模型。"
   ]
  },
  {
   "cell_type": "code",
   "execution_count": 13,
   "metadata": {
    "pycharm": {
     "name": "#%%\n"
    }
   },
   "outputs": [],
   "source": [
    "# 梯度下降\n",
    "def gradient_descent(X, Y, B, iterations, alpha):\n",
    "    m = len(X)\n",
    "\n",
    "    for iteration in range(iterations):\n",
    "        # Hypothesis Values\n",
    "        h = X.dot(B)\n",
    "        # Difference b/w Hypothesis and Actual Y\n",
    "        loss = h - Y\n",
    "        # Gradient Calculation\n",
    "        gradient = X.T.dot(loss) / m\n",
    "        # Changing Values of B using Gradient\n",
    "        B = B - alpha * gradient\n",
    "\n",
    "    return B"
   ]
  },
  {
   "cell_type": "code",
   "execution_count": 14,
   "metadata": {
    "pycharm": {
     "name": "#%%\n"
    }
   },
   "outputs": [],
   "source": [
    "# 最小二乘法\n",
    "def least_square(X,Y):\n",
    "    return np.dot(np.dot(np.linalg.inv(np.dot(X.T, X)), X.T), Y)"
   ]
  },
  {
   "cell_type": "markdown",
   "metadata": {},
   "source": [
    "### 运行\n",
    "\n",
    "分别使用两种方式对训练集进行训练，并在末尾使用了sklearn方法进行训练。"
   ]
  },
  {
   "cell_type": "code",
   "execution_count": 15,
   "metadata": {
    "pycharm": {
     "name": "#%%\n"
    }
   },
   "outputs": [
    {
     "data": {
      "text/plain": [
       "LinearRegression()"
      ]
     },
     "execution_count": 15,
     "metadata": {},
     "output_type": "execute_result"
    }
   ],
   "source": [
    "# 运行\n",
    "# 获取数据\n",
    "data = pd.read_excel('Folds5x2_pp.xlsx')\n",
    "\n",
    "# 梯度下降\n",
    "gradient_data = normalized(data)\n",
    "gradient_X_train,gradient_X_test,gradient_y_train,gradient_y_test = split_data(gradient_data.values)\n",
    "gradient_B = np.zeros(gradient_X_train.shape[1])\n",
    "gradient_newB = gradient_descent(gradient_X_train,gradient_y_train,gradient_B,iters,alpha)\n",
    "\n",
    "# 最小二乘法\n",
    "least_data = normalized(data)\n",
    "least_X_train,least_X_test,least_y_train,least_y_test = split_data(least_data.values)\n",
    "least_B = np.zeros(least_X_train.shape[1])\n",
    "least_newB = least_square(least_X_train,least_y_train)\n",
    "\n",
    "# sklearn\n",
    "sc = StandardScaler()\n",
    "sk_data = sc.fit_transform(data)\n",
    "sk_X_train,sk_X_test,sk_y_train,sk_y_test = split_data(sk_data)\n",
    "regression = LinearRegression()\n",
    "regression.fit(sk_X_train, sk_y_train)"
   ]
  },
  {
   "cell_type": "code",
   "execution_count": 16,
   "metadata": {
    "pycharm": {
     "name": "#%%\n"
    }
   },
   "outputs": [],
   "source": [
    "# RMSE\n",
    "def RMSE(X,y,B):\n",
    "    return np.sqrt(np.sum((X.dot(B)- y) ** 2)/(2 * len(X)))\n",
    "\n",
    "# r2\n",
    "def r_square(y_pred,y):\n",
    "    sst = np.sum((y-y.mean())**2)\n",
    "    ssr = np.sum((y_pred-y)**2)\n",
    "    r2 = 1-(ssr/sst)\n",
    "    return r2"
   ]
  },
  {
   "cell_type": "markdown",
   "metadata": {},
   "source": [
    "### 评估\n",
    "\n",
    "分别对梯度下降，最小二乘法和sklearn三种方式进行评估，评估方式有RMSE和r2两种。"
   ]
  },
  {
   "cell_type": "code",
   "execution_count": null,
   "metadata": {},
   "outputs": [],
   "source": [
    "# 预测结果\n",
    "# 梯度下降\n",
    "gradient_y_pred = gradient_X_test.dot(gradient_newB)\n",
    "print(\"梯度下降RMSE：%s\" %(RMSE(gradient_X_test,gradient_y_test,gradient_newB)))\n",
    "print(\"梯度下降r2：%s\" %(r_square(gradient_y_pred,gradient_y_test)))\n",
    "\n",
    "# 最小二乘法\n",
    "least_y_pred = least_X_test.dot(least_newB)\n",
    "print(\"最小二乘法RMSE：%s\" %(RMSE(least_X_test,least_y_test,least_newB)))\n",
    "print(\"最小二乘法r2：%s\" %(r_square(least_y_pred,least_y_test)))\n",
    "\n",
    "# sklearn\n",
    "sk_y_pred = regression.predict(sk_X_test)\n",
    "print(\"sklearn的RMSE：%s\" %(np.sqrt(mean_squared_error(sk_y_test,sk_y_pred))))\n",
    "print(\"sklearn的r2：%s\" %(r2_score(sk_y_test, sk_y_pred)))\n"
   ]
  }
 ],
 "metadata": {
  "kernelspec": {
   "display_name": "Python 3",
   "language": "python",
   "name": "python3"
  },
  "language_info": {
   "codemirror_mode": {
    "name": "ipython",
    "version": 3
   },
   "file_extension": ".py",
   "mimetype": "text/x-python",
   "name": "python",
   "nbconvert_exporter": "python",
   "pygments_lexer": "ipython3",
   "version": "3.8.5"
  }
 },
 "nbformat": 4,
 "nbformat_minor": 1
}