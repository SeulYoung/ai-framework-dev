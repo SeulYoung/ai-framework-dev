{
 "cells": [
  {
   "cell_type": "markdown",
   "metadata": {},
   "source": [
    "# Project3 - 多分类\n",
    "\n",
    "本部分实现的逻辑回归的多分类，使用了鸢尾花Iris数据集，为三元分类。梯度下降方式使用的BGD，另外两种方式（SGD和MBGD）的实现在二元分类器中。"
   ]
  },
  {
   "cell_type": "code",
   "execution_count": 17,
   "metadata": {},
   "outputs": [],
   "source": [
    "import numpy as np\n",
    "\n",
    "# 用于对比sklearn结果所需的库\n",
    "from sklearn.linear_model import LogisticRegression\n",
    "from sklearn.model_selection import train_test_split\n",
    "from sklearn.preprocessing import StandardScaler"
   ]
  },
  {
   "cell_type": "code",
   "execution_count": 18,
   "metadata": {
    "pycharm": {
     "name": "#%%\n"
    }
   },
   "outputs": [],
   "source": [
    "# 读取数据\n",
    "np.set_printoptions(suppress=True)\n",
    "old_data = np.genfromtxt(\"multinomialLR.csv\", delimiter=',', skip_header=1)\n",
    "data = np.delete(old_data,0,1)\n",
    "\n",
    "X = data[:,:-1]\n",
    "y = data[:,-1:]\n",
    "\n",
    "# 归一化\n",
    "sc = StandardScaler()\n",
    "X = sc.fit_transform(X)\n",
    "\n",
    "X = np.hstack((np.ones((X.shape[0],1)),X))\n",
    "\n",
    "# 分割数据，其中训练集与测试集的比例为4：1\n",
    "X_train, X_test, y_train, y_test =train_test_split(X,y,test_size=0.2, random_state=6)\n",
    "\n",
    "m = X_train.shape[0]"
   ]
  },
  {
   "cell_type": "code",
   "execution_count": 19,
   "metadata": {
    "pycharm": {
     "name": "#%%\n"
    }
   },
   "outputs": [],
   "source": [
    "# 对于多分类，使用一对所有，3个类别因此y的形状为m，3\n",
    "Y = np.zeros((m,3))\n",
    "\n",
    "k = np.unique(y)\n",
    "k.sort()\n",
    "\n",
    "for cls in k.astype(int):\n",
    "    Y[np.where(y_train[:,-1] == cls),cls] = 1\n",
    "\n",
    "#print(Y)"
   ]
  },
  {
   "cell_type": "code",
   "execution_count": 20,
   "metadata": {
    "pycharm": {
     "name": "#%%\n"
    }
   },
   "outputs": [],
   "source": [
    "# 定义参数\n",
    "B = np.zeros((3,5))\n",
    "alpha = 0.005\n",
    "iters = 20000"
   ]
  },
  {
   "cell_type": "code",
   "execution_count": 21,
   "metadata": {
    "pycharm": {
     "name": "#%%\n"
    }
   },
   "outputs": [],
   "source": [
    "def sigmoid(z):\n",
    "    return 1 / (1 + np.exp(-z))"
   ]
  },
  {
   "cell_type": "markdown",
   "metadata": {},
   "source": [
    "使用BGD实现梯度下降，并使用了L2正则化。"
   ]
  },
  {
   "cell_type": "code",
   "execution_count": 22,
   "metadata": {
    "pycharm": {
     "name": "#%%\n"
    }
   },
   "outputs": [],
   "source": [
    "def BGD(X, Y, B, alpha, iterations):\n",
    "    for itreation in range(iterations):\n",
    "        h = sigmoid(np.dot(X, B.T))\n",
    "        loss = h - Y\n",
    "\n",
    "        gradient = np.dot(loss.T, X) / m\n",
    "        # L2正则化\n",
    "        b = B[0]\n",
    "        B = (1 - alpha * 0.5 / m) * B - alpha * gradient\n",
    "        B[0] = b - alpha * gradient [0] / m\n",
    "        # B = B - alpha * gradient\n",
    "\n",
    "    return B"
   ]
  },
  {
   "cell_type": "markdown",
   "metadata": {},
   "source": [
    "### 运行\n",
    "\n",
    "对训练集进行训练模型，并使用测试集测试准确率。"
   ]
  },
  {
   "cell_type": "code",
   "execution_count": 23,
   "metadata": {
    "pycharm": {
     "name": "#%%\n"
    }
   },
   "outputs": [
    {
     "name": "stdout",
     "output_type": "stream",
     "text": [
      "我的准确率为: 0.8333333333333334\n"
     ]
    }
   ],
   "source": [
    "# 运行\n",
    "new_beta = BGD(X_train,Y,B,alpha,iters)\n",
    "#print(new_beta)\n",
    "\n",
    "# 预测\n",
    "test_m = X_test.shape[0]\n",
    "model_predict = sigmoid(np.dot(X_test, new_beta.T))\n",
    "\n",
    "predict = np.zeros((test_m,1))\n",
    "for i in range(model_predict.shape[0]):\n",
    "    if max(model_predict[i,0],model_predict[i,1],model_predict[i,2]) == model_predict[i,0]:\n",
    "        predict[i,0] = 0\n",
    "    elif max(model_predict[i,0],model_predict[i,1],model_predict[i,2]) == model_predict[i,1]:\n",
    "        predict[i,0] = 1\n",
    "    elif max(model_predict[i,0],model_predict[i,1],model_predict[i,2]) == model_predict[i,2]:\n",
    "        predict[i,0] = 2\n",
    "\n",
    "print(\"我的准确率为:\", np.mean(np.equal(predict,y_test)))"
   ]
  },
  {
   "cell_type": "markdown",
   "metadata": {},
   "source": [
    "### sklearn方式\n",
    "\n",
    "调用sklearn提供的方法训练，并使用测试集测试该方法的准确率"
   ]
  },
  {
   "cell_type": "code",
   "execution_count": 24,
   "metadata": {
    "pycharm": {
     "name": "#%%\n"
    }
   },
   "outputs": [
    {
     "name": "stdout",
     "output_type": "stream",
     "text": [
      "我的准确率为: 0.8333333333333334\n",
      "sklearn准确率为: 1.0\n"
     ]
    }
   ],
   "source": [
    "# 对比sklearn\n",
    "sk_data = old_data\n",
    "sk_X = sk_data[:,:-1]\n",
    "sk_y = sk_data[:,-1:]\n",
    "\n",
    "sk_sc = StandardScaler()\n",
    "sk_X = sk_sc.fit_transform(sk_X)\n",
    "\n",
    "sk_X_train, sk_X_test, sk_y_train, sk_y_test =train_test_split(sk_X,sk_y,test_size=0.2, random_state=5)\n",
    "\n",
    "lr = LogisticRegression(multi_class='ovr', penalty='l2')\n",
    "lr.fit(sk_X_train,sk_y_train.reshape(m))\n",
    "\n",
    "print(\"sklearn准确率为:\", lr.score(sk_X_test,sk_y_test.astype('int')))\n"
   ]
  }
 ],
 "metadata": {
  "kernelspec": {
   "display_name": "Python 3",
   "language": "python",
   "name": "python3"
  },
  "language_info": {
   "codemirror_mode": {
    "name": "ipython",
    "version": 3
   },
   "file_extension": ".py",
   "mimetype": "text/x-python",
   "name": "python",
   "nbconvert_exporter": "python",
   "pygments_lexer": "ipython3",
   "version": "3.8.5"
  }
 },
 "nbformat": 4,
 "nbformat_minor": 1
}